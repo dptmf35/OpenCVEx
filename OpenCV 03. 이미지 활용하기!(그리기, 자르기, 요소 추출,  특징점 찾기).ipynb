{
 "cells": [
  {
   "cell_type": "markdown",
   "metadata": {},
   "source": [
    "# OpenCV 라이브러리 활용"
   ]
  },
  {
   "cell_type": "markdown",
   "metadata": {},
   "source": [
    "## 사전 준비(환경설정) \n",
    "1. anaconda navigator에서 environments --> uninstalled, cv 검색\n",
    "2. libopencv, opencv, py-opencv install\n",
    "3. sample image 여러개 준비"
   ]
  },
  {
   "cell_type": "markdown",
   "metadata": {},
   "source": [
    "## 라이브러리 import"
   ]
  },
  {
   "cell_type": "code",
   "execution_count": 23,
   "metadata": {},
   "outputs": [],
   "source": [
    "import cv2\n",
    "#matplotlib과 연동하기 위함\n",
    "import matplotlib.pyplot as plt \n",
    "import numpy as np"
   ]
  },
  {
   "cell_type": "markdown",
   "metadata": {},
   "source": [
    "### 이미지 처리 방법\n",
    "\n",
    "1) 픽셀 기반 처리 : 픽셀 값을 직접 처리 <br>\n",
    "2) 영역 기반 처리 : 픽셀을 그룹해서 처리 <br>\n",
    "3) 주파수 기반 처리 : 픽셀값을 주파수로 변환하여 처리"
   ]
  },
  {
   "cell_type": "markdown",
   "metadata": {},
   "source": [
    "## 픽셀값 읽기"
   ]
  },
  {
   "cell_type": "code",
   "execution_count": 9,
   "metadata": {},
   "outputs": [
    {
     "name": "stdout",
     "output_type": "stream",
     "text": [
      "[235 224 187]\n"
     ]
    }
   ],
   "source": [
    "img = cv2.imread(\"img01.png\")\n",
    "\n",
    "px = img[200, 100]\n",
    "print(px) \n",
    "# B G R (A)"
   ]
  },
  {
   "cell_type": "code",
   "execution_count": 10,
   "metadata": {},
   "outputs": [],
   "source": [
    "# 이미지에 빨간색 점을 찍어보자\n",
    "\n",
    "img[201, 100] = [0, 0, 255]\n",
    "img[200, 101] = [0, 0, 255]\n",
    "img[201, 101] = [0, 0, 255]\n",
    "img[200, 100] = [0, 0, 255]\n",
    "\n",
    "# --> 이미지의 해당 픽셀을 빨간색으로 변경\n",
    "\n",
    "cv2.imshow('',img)\n",
    "cv2.waitKey(0)\n",
    "cv2.destroyAllWindows()"
   ]
  },
  {
   "cell_type": "markdown",
   "metadata": {},
   "source": [
    "## 이미지 속성"
   ]
  },
  {
   "cell_type": "code",
   "execution_count": 11,
   "metadata": {},
   "outputs": [
    {
     "data": {
      "text/plain": [
       "(358, 640, 3)"
      ]
     },
     "execution_count": 11,
     "metadata": {},
     "output_type": "execute_result"
    }
   ],
   "source": [
    "# 이미지의 크기와 컬러 채널 수 ( 3 : BGR, 1: GRAY)\n",
    "img.shape "
   ]
  },
  {
   "cell_type": "code",
   "execution_count": 12,
   "metadata": {},
   "outputs": [
    {
     "data": {
      "text/plain": [
       "687360"
      ]
     },
     "execution_count": 12,
     "metadata": {},
     "output_type": "execute_result"
    }
   ],
   "source": [
    "# 전체 픽셀 수 \n",
    "img.size "
   ]
  },
  {
   "cell_type": "code",
   "execution_count": 13,
   "metadata": {},
   "outputs": [
    {
     "data": {
      "text/plain": [
       "dtype('uint8')"
      ]
     },
     "execution_count": 13,
     "metadata": {},
     "output_type": "execute_result"
    }
   ],
   "source": [
    "# 픽셀 값의 데이터 타입\n",
    "# unit8 : unsigned (양수인) int (정수형) 8 (8비트0 ~ 255)\n",
    "img.dtype "
   ]
  },
  {
   "cell_type": "markdown",
   "metadata": {},
   "source": [
    "## ROI ( Region of Image) : 이미지에서 원하는 영역 자르기"
   ]
  },
  {
   "cell_type": "code",
   "execution_count": 14,
   "metadata": {},
   "outputs": [],
   "source": [
    "subimg = img[100:200, 200:300] #해당 픽셀 범위만큼의 이미지를 자름\n",
    "\n",
    "cv2.imshow('', subimg)\n",
    "cv2.waitKey(0)\n",
    "cv2.destroyAllWindows()"
   ]
  },
  {
   "cell_type": "markdown",
   "metadata": {},
   "source": [
    "## 그리기 함수\n",
    "1. cv2.line(이미지, 시작점 좌표, 끝점 좌표, 색상, 두께) : 선 그리기\n",
    "2. cv2.circle(이미지, 중심 좌표, 반지름, 색상, 두께) : 원 그리기\n",
    "3. cv2.rectangle(이미지, 좌상단 좌표, 우하단 좌표, 색상, 두께) : 사각형 그리기\n",
    "4. cv2.ellipse(이미지, 중심좌표, 장축길이/단축길이, 시작 각도, 끝 각도, 색상, 두께) : 타원 그리기\n",
    "5. cv2.putText(이미지, 출력내용, 시작좌표, 색상, 굵기) : 텍스트 출력"
   ]
  },
  {
   "cell_type": "code",
   "execution_count": 15,
   "metadata": {},
   "outputs": [],
   "source": [
    "lenna = cv2.imread('./data/lenna.png')"
   ]
  },
  {
   "cell_type": "code",
   "execution_count": 16,
   "metadata": {},
   "outputs": [],
   "source": [
    "# 선 그리기\n",
    "# cv2.line(이미지, 시작점 좌표, 끝점 좌표, 색상, 두께)\n",
    "\n",
    "lenna = cv2.line(lenna , (100, 100), (100, 200) , (0, 0, 255), 3)\n",
    "\n",
    "cv2.imshow('', lenna)\n",
    "cv2.waitKey(0)\n",
    "cv2.destroyAllWindows()"
   ]
  },
  {
   "cell_type": "code",
   "execution_count": 17,
   "metadata": {},
   "outputs": [],
   "source": [
    "# 원 그리기\n",
    "# cv2.circle(이미지, 중심 좌표, 반지름, 색상, 두께)\n",
    "\n",
    "lenna = cv2.circle(lenna , (150, 150), 20, (255, 0, 0), 2)\n",
    "\n",
    "cv2.imshow('', lenna)\n",
    "cv2.waitKey(0)\n",
    "cv2.destroyAllWindows()"
   ]
  },
  {
   "cell_type": "code",
   "execution_count": 18,
   "metadata": {},
   "outputs": [],
   "source": [
    "# 사각형 그리기\n",
    "# cv2.rectangle(이미지, 좌상단 좌표, 우하단 좌표, 색상, 두께)\n",
    "\n",
    "lenna = cv2.rectangle(lenna , (200, 200), (300, 300), (255, 255, 255), 2)\n",
    "\n",
    "cv2.imshow('', lenna)\n",
    "cv2.waitKey(0)\n",
    "cv2.destroyAllWindows()"
   ]
  },
  {
   "cell_type": "code",
   "execution_count": 19,
   "metadata": {},
   "outputs": [],
   "source": [
    "# 타원 그리기\n",
    "# cv2.ellipse(이미지, 중심좌표, 장축길이/단축길이, 시작 각도, 끝 각도, 색상, 두께)\n",
    "\n",
    "lenna = cv2.ellipse(lenna, (150, 150), (100, 50), 0, 0, 360, (255,255,0), 5)\n",
    "\n",
    "cv2.imshow('', lenna)\n",
    "cv2.waitKey(0)\n",
    "cv2.destroyAllWindows()"
   ]
  },
  {
   "cell_type": "code",
   "execution_count": 20,
   "metadata": {},
   "outputs": [],
   "source": [
    "# 텍스트 그리기\n",
    "# cv2.putText(이미지, 출력내용, 시작좌표, 색상, 굵기)\n",
    "\n",
    "cv2.putText(lenna,'hihihi',(30,150), cv2.FONT_HERSHEY_COMPLEX, 1,(0, 0, 0),2,cv2.LINE_AA)\n",
    "\n",
    "cv2.imshow('', lenna)\n",
    "cv2.waitKey(0)\n",
    "cv2.destroyAllWindows()"
   ]
  },
  {
   "cell_type": "markdown",
   "metadata": {},
   "source": [
    "## RGB --> HSV(색상,채도,명도)"
   ]
  },
  {
   "cell_type": "code",
   "execution_count": 21,
   "metadata": {},
   "outputs": [],
   "source": [
    "ball = cv2.imread('./data/balloon.jpg')\n",
    "\n",
    "hsv = cv2.cvtColor(ball, cv2.COLOR_BGR2HSV)"
   ]
  },
  {
   "cell_type": "markdown",
   "metadata": {},
   "source": [
    "## 이미지에서 특정 색상만 추출해보자"
   ]
  },
  {
   "cell_type": "code",
   "execution_count": 22,
   "metadata": {},
   "outputs": [],
   "source": [
    "# 추출할 색상 범위(이걸 잘 조율하면 됨) : lowr, higher\n",
    "# 빨간색 추출\n",
    "lower = np.array( [-10, 100, 100])\n",
    "higher = np.array([10, 255, 255])\n",
    "\n",
    "\n",
    "# 범위 마스크 설정 \n",
    "mask = cv2.inRange(hsv, lower, higher)\n",
    "img2 = cv2.bitwise_and(ball, ball, mask = mask)\n",
    "\n",
    "cv2.imshow('', img2)\n",
    "\n",
    "cv2.waitKey(0)\n",
    "cv2.destroyAllWindows()"
   ]
  },
  {
   "cell_type": "code",
   "execution_count": 26,
   "metadata": {},
   "outputs": [],
   "source": [
    "# 파란색 추출\n",
    "lower_blue = np.array( [100, 100, 100])\n",
    "higher_blue = np.array([130, 255, 255])\n",
    "\n",
    "mask = cv2.inRange(hsv, lower_blue, higher_blue)\n",
    "img2 = cv2.bitwise_and(ball, ball, mask = mask)\n",
    "\n",
    "cv2.imshow('', img2)\n",
    "\n",
    "cv2.waitKey(0)\n",
    "cv2.destroyAllWindows()"
   ]
  },
  {
   "cell_type": "code",
   "execution_count": 27,
   "metadata": {},
   "outputs": [],
   "source": [
    "# 노란색 추출\n",
    "lower_yellow = np.array( [10, 100, 100])\n",
    "higher_yellow = np.array([30, 255, 255])\n",
    "\n",
    "mask = cv2.inRange(hsv, lower_yellow, higher_yellow)\n",
    "img2 = cv2.bitwise_and(ball, ball, mask = mask)\n",
    "\n",
    "cv2.imshow('', img2)\n",
    "\n",
    "cv2.waitKey(0)\n",
    "cv2.destroyAllWindows()"
   ]
  },
  {
   "cell_type": "code",
   "execution_count": 29,
   "metadata": {},
   "outputs": [],
   "source": [
    "# 초록색 추출\n",
    "lower_green = np.array( [40, 100, 100])\n",
    "higher_green = np.array([80, 255, 255])\n",
    "\n",
    "mask = cv2.inRange(hsv, lower_green, higher_green)\n",
    "img2 = cv2.bitwise_and(ball, ball, mask = mask)\n",
    "\n",
    "cv2.imshow('', img2)\n",
    "\n",
    "cv2.waitKey(0)\n",
    "cv2.destroyAllWindows()"
   ]
  },
  {
   "cell_type": "markdown",
   "metadata": {},
   "source": [
    "## 침식 (erosion) 과 팽창 (dilation)\n",
    "- 침식 : 이미지 경계부분을 배경 픽셀로 변경\n",
    "- 팽창 : 이미지 배경부분을 전경 픽셀로 변경"
   ]
  },
  {
   "cell_type": "code",
   "execution_count": 31,
   "metadata": {},
   "outputs": [],
   "source": [
    "words = cv2.imread('./data/words.png', cv2.IMREAD_GRAYSCALE)\n",
    "cv2.imshow('original', words)\n",
    "\n",
    "# (3,3) 크기 배열에 1로 초기화\n",
    "kernel = np.ones((2,2), np.uint8)\n",
    "\n",
    "#침식\n",
    "erosion = cv2.erode(words, kernel, iterations=2)\n",
    "\n",
    "cv2.imshow('erosion', erosion)\n",
    "\n",
    "cv2.waitKey(0)\n",
    "cv2.destroyAllWindows()\n",
    "\n",
    "# --> original과 비교해서 erosion 글자들의 두께가 얇아짐을 확인"
   ]
  },
  {
   "cell_type": "code",
   "execution_count": 32,
   "metadata": {},
   "outputs": [],
   "source": [
    "kernel = np.ones((2,2), np.uint8)\n",
    "\n",
    "#팽창\n",
    "dilation = cv2.dilate(words, kernel, iterations=2)\n",
    "\n",
    "cv2.imshow('original', words)\n",
    "cv2.imshow('dilation', dilation)\n",
    "\n",
    "cv2.waitKey(0)\n",
    "cv2.destroyAllWindows()\n",
    "\n",
    "# --> original과 비교해서 dilation 글자들의 두께가 굵어짐을 확인"
   ]
  },
  {
   "cell_type": "markdown",
   "metadata": {},
   "source": [
    "## Opening과 Closing\n",
    "- opening : 침식 후에 팽창\n",
    "- closing : 팽창 후에 침식"
   ]
  },
  {
   "cell_type": "code",
   "execution_count": 33,
   "metadata": {},
   "outputs": [],
   "source": [
    "# 검정 배경에 흰색 잡음 처리 --> Opening\n",
    "numA = cv2.imread('./data/a.png', cv2.IMREAD_GRAYSCALE)\n",
    "cv2.imshow('original' , numA)\n",
    "\n",
    "kernel = np.ones((3,3), np.uint8)\n",
    "\n",
    "# Opening\n",
    "opening = cv2.morphologyEx(numA, cv2.MORPH_OPEN, kernel)\n",
    "\n",
    "cv2.imshow('opening', opening)\n",
    "\n",
    "cv2.waitKey(0)\n",
    "cv2.destroyAllWindows()"
   ]
  },
  {
   "cell_type": "code",
   "execution_count": 34,
   "metadata": {},
   "outputs": [],
   "source": [
    "# 흰색 글씨에 검정색 잡음 처리 --> Closing \n",
    "numB = cv2.imread('./data/b.png', cv2.IMREAD_GRAYSCALE)\n",
    "cv2.imshow('original' , numB)\n",
    "\n",
    "kernel = np.ones((4,4) , np.uint8)\n",
    "\n",
    "# Closing\n",
    "closing = cv2.morphologyEx(numB, cv2.MORPH_CLOSE, kernel)\n",
    "\n",
    "cv2.imshow('closing' , closing)\n",
    "\n",
    "cv2.waitKey(0)\n",
    "cv2.destroyAllWindows()"
   ]
  },
  {
   "cell_type": "markdown",
   "metadata": {},
   "source": [
    "## 이미지 특성 추출 : Edge"
   ]
  },
  {
   "cell_type": "code",
   "execution_count": 35,
   "metadata": {},
   "outputs": [],
   "source": [
    "# Canny 엣지 검출기 --> 이미지의 테두리만 추출\n",
    "\n",
    "ball = cv2.imread('./data/balloon.jpg', cv2.IMREAD_GRAYSCALE) \n",
    "\n",
    "# 이미지, 최소값, 최대값\n",
    "edge = cv2.Canny(ball, 200,550)\n",
    "\n",
    "cv2.imshow('canny', edge)\n",
    "\n",
    "cv2.waitKey(0)\n",
    "cv2.destroyAllWindows()"
   ]
  },
  {
   "cell_type": "markdown",
   "metadata": {},
   "source": [
    "## 윤곽선 (Contour) : 닫힌 외곽선 (폐곡선)\n",
    "- 이미지의 특정 윤곽선을 추출해보자"
   ]
  },
  {
   "cell_type": "code",
   "execution_count": 37,
   "metadata": {},
   "outputs": [],
   "source": [
    "ball = cv2.imread('./data/balloon.jpg', cv2.IMREAD_GRAYSCALE)\n",
    "\n",
    "# 127보다 큰 값은 255로 변경\n",
    "_, th = cv2.threshold(ball, 220, 255, 0)\n",
    "\n",
    "cv2.imshow('th', th)\n",
    "\n",
    "# 윤곽선 추출\n",
    "# cv2.RETR_TREE : 모든 윤곽선을 추출하고 상관관계까지 추출\n",
    "# CHAIN_APPROX_SIMPLE : 윤곽선의 끝점 정보만 가져오는 기능\n",
    "\n",
    "_, contours, _ = cv2.findContours(th, cv2.RETR_TREE, cv2.CHAIN_APPROX_SIMPLE)\n",
    "\n",
    "# 원본 이미지, 윤곽선, 출력할 윤곽선 번호, 색상, 두께\n",
    "cv2.drawContours(ball, contours, 11, (0,0, 255), 2)\n",
    "\n",
    "cv2.imshow('contour', ball)\n",
    "\n",
    "cv2.waitKey(0)\n",
    "cv2.destroyAllWindows()"
   ]
  },
  {
   "cell_type": "markdown",
   "metadata": {},
   "source": [
    "## 히스토그램\n",
    "- 픽셀 값들이 이미지 내 몇 개씩 존재하는지 그래프로 나타낸 것!"
   ]
  },
  {
   "cell_type": "code",
   "execution_count": 38,
   "metadata": {},
   "outputs": [
    {
     "data": {
      "image/png": "[encoded data removed]",
      "text/plain": [
       "<Figure size 432x288 with 1 Axes>"
      ]
     },
     "metadata": {
      "needs_background": "light"
     },
     "output_type": "display_data"
    }
   ],
   "source": [
    "img = cv2.imread('./data/lenna.png', cv2.IMREAD_GRAYSCALE)\n",
    "\n",
    "cv2.imshow('', img)\n",
    "\n",
    "# 히스토그램\n",
    "# 이미지, 채널, 필터, 색상수, x축 범위\n",
    "hist = cv2.calcHist([img], [0], None, [256], [0,256])\n",
    "\n",
    "plt.plot(hist)\n",
    "\n",
    "\n",
    "cv2.waitKey(0)\n",
    "cv2.destroyAllWindows()"
   ]
  },
  {
   "cell_type": "markdown",
   "metadata": {},
   "source": [
    "## 히스토그램 평활화 \n",
    "- 한쪽으로 치우친 값을 정규분포로 만들어 줌 --> 선명해짐"
   ]
  },
  {
   "cell_type": "code",
   "execution_count": 39,
   "metadata": {},
   "outputs": [
    {
     "data": {
      "image/png": "[encoded data removed]",
      "text/plain": [
       "<Figure size 432x288 with 1 Axes>"
      ]
     },
     "metadata": {
      "needs_background": "light"
     },
     "output_type": "display_data"
    }
   ],
   "source": [
    "img2 = cv2.equalizeHist(img)\n",
    "\n",
    "cv2.imshow('original', img)\n",
    "cv2.imshow('equalize', img2)\n",
    "\n",
    "hist2 = cv2.calcHist([img2], [0], None, [256], [0, 255])\n",
    "plt.plot(hist2)\n",
    "\n",
    "cv2.waitKey(0)\n",
    "cv2.destroyAllWindows()"
   ]
  },
  {
   "cell_type": "code",
   "execution_count": 40,
   "metadata": {},
   "outputs": [
    {
     "data": {
      "image/png": "[encoded data removed]",
      "text/plain": [
       "<Figure size 432x288 with 1 Axes>"
      ]
     },
     "metadata": {
      "needs_background": "light"
     },
     "output_type": "display_data"
    }
   ],
   "source": [
    "# 다른 이미지로 해봄\n",
    "\n",
    "samp = cv2.imread('./data/sample.jpg', cv2.IMREAD_GRAYSCALE)\n",
    "samp2 = cv2.equalizeHist(samp)\n",
    "cv2.imshow('origin',samp)\n",
    "cv2.imshow('equalize',samp2)\n",
    "\n",
    "hist3 = cv2.calcHist([samp2], [0], None, [256], [0, 255])\n",
    "plt.plot(hist3)\n",
    "\n",
    "cv2.waitKey(0)\n",
    "cv2.destroyAllWindows()"
   ]
  },
  {
   "cell_type": "markdown",
   "metadata": {},
   "source": [
    "## 템플릿 매칭 : 이미지 내 이미지 조작(템플릿) 이 있는지 검색 하는 작업"
   ]
  },
  {
   "cell_type": "markdown",
   "metadata": {},
   "source": [
    "- 너구리 이미지에서 사과를 찾아보자! "
   ]
  },
  {
   "cell_type": "code",
   "execution_count": 41,
   "metadata": {},
   "outputs": [],
   "source": [
    "nuguri = cv2.imread('./data/nuguri.png')\n",
    "nuguri_gray = cv2.cvtColor(nuguri, cv2.COLOR_RGB2GRAY)\n",
    "apple = cv2.imread('./data/apple.png', cv2.IMREAD_GRAYSCALE)\n",
    "\n",
    "# 템플릿 매칭\n",
    "# 큰 이미지 / 이미지 조각(템플릿) / 매칭 방법\n",
    "# res : 매칭률 (0.0 - 1.0)\n",
    "res = cv2.matchTemplate(nuguri_gray, apple, cv2.TM_CCOEFF_NORMED)\n",
    "\n",
    "# 템플릿 크기를 가져온다\n",
    "w, h = apple.shape[::-1] #( w  , h )\n",
    "\n",
    "# 매칭된 위치 값을 가져온다 ( 매칭률 70 % )\n",
    "loc = np.where(res >= 0.67 ) # loc --> np.where : 위치 값 반환\n",
    "\n",
    "for pt in zip(*loc[::-1]) :\n",
    "    # 이미지, 시작 위치, 끝 위치, 색상, 두께\n",
    "    cv2.rectangle(nuguri, pt, (pt[0]+w, pt[1]+h), (0, 0, 255), 2) \n",
    "\n",
    "cv2.imshow('match', nuguri)\n",
    "cv2.waitKey(0)\n",
    "cv2.destroyAllWindows()"
   ]
  },
  {
   "cell_type": "markdown",
   "metadata": {},
   "source": [
    "- 사다리를 찾아보자!"
   ]
  },
  {
   "cell_type": "code",
   "execution_count": 44,
   "metadata": {},
   "outputs": [],
   "source": [
    "nuguri = cv2.imread('./data/nuguri.png')\n",
    "nuguri_gray = cv2.cvtColor(nuguri, cv2.COLOR_RGB2GRAY)\n",
    "ladder = cv2.imread('./data/ladder.png', cv2.IMREAD_GRAYSCALE)\n",
    "\n",
    "# 템플릿 매칭\n",
    "# 큰 이미지 / 이미지 조각(템플릿) / 매칭 방법\n",
    "# res : 매칭률 (0.0 - 1.0)\n",
    "res = cv2.matchTemplate(nuguri_gray, ladder, cv2.TM_CCOEFF_NORMED)\n",
    "\n",
    "# 템플릿 크기를 가져온다\n",
    "w, h = ladder.shape[::-1] #( w  , h )\n",
    "\n",
    "# 매칭된 위치 값을 가져온다 ( 매칭률 70 % )\n",
    "loc = np.where(res >= 0.67 ) # loc --> np.where : 위치 값 반환\n",
    "\n",
    "for pt in zip(*loc[::-1]) :\n",
    "    # 이미지, 시작 위치, 끝 위치, 색상, 두께\n",
    "    cv2.rectangle(nuguri, pt, (pt[0]+w, pt[1]+h), (0, 0, 255), 2) \n",
    "\n",
    "cv2.imshow('match', nuguri)\n",
    "cv2.waitKey(0)\n",
    "cv2.destroyAllWindows()"
   ]
  },
  {
   "cell_type": "markdown",
   "metadata": {},
   "source": [
    "## 이미지 내에서 원 찾기"
   ]
  },
  {
   "cell_type": "code",
   "execution_count": 45,
   "metadata": {},
   "outputs": [],
   "source": [
    "img = cv2.imread('./data/light.jpg')\n",
    "img_gray = cv2.cvtColor(img, cv2.COLOR_BGR2GRAY)\n",
    "\n",
    "# 허프 변환을 이용한 원 찾기\n",
    "# 이미지, 알고리즘, 원들 사이의 거리값, canny 연산자값, 허프변환지수,\n",
    "# 최소 원의 반지름, 최대 원의 반지름\n",
    "\n",
    "circle= cv2.HoughCircles(img_gray, cv2.HOUGH_GRADIENT, 1, 10,\n",
    "                        param1 = 60, param2=50, minRadius=10, maxRadius=100)\n",
    "\n",
    "# 원을 검색했다면..?\n",
    "if circle is not None :\n",
    "    circles = np.uint16(np.around(circle))\n",
    "    \n",
    "    # 검색된 원을 그린다!\n",
    "    # circles : 중심 x좌표, 중심 y좌표, 반지름\n",
    "    for i in circles[0, :] :\n",
    "        cv2.circle(img , (i[0], i[1]), i[2], (255, 0, 0), 2)\n",
    "        \n",
    "cv2.imshow('circle', img)\n",
    "\n",
    "cv2.waitKey(0)\n",
    "cv2.destroyAllWindows()"
   ]
  },
  {
   "cell_type": "markdown",
   "metadata": {},
   "source": [
    "## 코너점 찾기"
   ]
  },
  {
   "cell_type": "code",
   "execution_count": 46,
   "metadata": {},
   "outputs": [],
   "source": [
    "img = cv2.imread('./data/corner.png')\n",
    "img_gray = cv2.cvtColor(img, cv2.COLOR_BGR2GRAY)\n",
    "\n",
    "# 이미지, 코너점 개수, 임계값, 코너점간 최소거리\n",
    "corner = cv2.goodFeaturesToTrack(img_gray, 25, 0.01, 10)\n",
    "conter = np.int0(corner) #값을 정수로 변환\n",
    "\n",
    "# 코너점들 출력 \n",
    "for i in corner :  \n",
    "    # -1 : 내부를 채움!\n",
    "    x, y = i.ravel()\n",
    "    cv2.circle(img, (x,y), 3, (255, 0, 0), -1)     # 다차원 배열 -> 1차원 배열     \n",
    "\n",
    "cv2.imshow('corner', img)\n",
    "\n",
    "cv2.waitKey(0)\n",
    "cv2.destroyAllWindows()"
   ]
  },
  {
   "cell_type": "markdown",
   "metadata": {},
   "source": [
    "## ORB 알고리즘 이용한 특징점 찾기"
   ]
  },
  {
   "cell_type": "code",
   "execution_count": 47,
   "metadata": {},
   "outputs": [],
   "source": [
    "img = cv2.imread('./data/butterfly.png')\n",
    "img_gray = cv2.cvtColor(img, cv2.COLOR_BGR2GRAY)\n",
    "\n",
    "# 특징점(이미지의 특징이 되는 부분?) 찾기\n",
    "orb = cv2.ORB_create()\n",
    "# kp : 특징점 위치, des : 특징점 기술자\n",
    "kp, des = orb.detectAndCompute(img, None)\n",
    "\n",
    "img2 = img.copy()\n",
    "\n",
    "for marker in kp :\n",
    "    img2 = cv2.drawMarker(img2, tuple(int(i) for i in marker.pt), \n",
    "                         markerType=3, markerSize=10, thickness=1, color=(0, 0, 255))\n",
    "\n",
    "cv2.imshow('orb', img2)\n",
    "\n",
    "cv2.waitKey(0)\n",
    "cv2.destroyAllWindows()"
   ]
  },
  {
   "cell_type": "code",
   "execution_count": 48,
   "metadata": {},
   "outputs": [],
   "source": [
    "img1 = cv2.imread('./data/img1.png')\n",
    "img2 = cv2.imread('./data/img2.png')\n",
    "\n",
    "img1_gray = cv2.cvtColor(img1, cv2.COLOR_BGR2GRAY)\n",
    "img2_gray = cv2.cvtColor(img2, cv2.COLOR_BGR2GRAY)\n",
    "\n",
    "\n",
    "# 특징점(이미지의 특징이 되는 부분?) 찾기\n",
    "\n",
    "orb = cv2.ORB_create()\n",
    "\n",
    "# kp : 특징점 위치, des : 특징점 기술자\n",
    "# 각각의 특징점을 찾자\n",
    "kp1, des1 = orb.detectAndCompute(img1, None)\n",
    "kp2, des2 = orb.detectAndCompute(img2, None)\n",
    "\n",
    "# 두개 특징점들 간 매칭을 계산한다\n",
    "# crossCheck : 서로 매칭을 계산\n",
    "bf = cv2.BFMatcher(cv2.NORM_HAMMING, crossCheck=True)\n",
    "matches = bf.match(des1,des2)\n",
    "\n",
    "# 매칭도 별로 정렬\n",
    "matches = sorted(matches, key=lambda x : x.distance)\n",
    "\n",
    "\n",
    "# flags = 1 : 매칭안된 점도 표시, flags = 2 : 매칭된 점만 표시   flags = cv2.DrawMatchesFlags_NOT_DRAW_SINGLE_POINTS\n",
    "res = cv2.drawMatches(img1, kp1, img2, kp2, matches[:12], None, flags = 2) #sort 한것 중 상위 12개 추출!\n",
    "\n",
    "cv2.imshow('orb', res)\n",
    "\n",
    "cv2.waitKey(0)\n",
    "cv2.destroyAllWindows()"
   ]
  },
  {
   "cell_type": "markdown",
   "metadata": {},
   "source": [
    "## 얼굴과 눈을 검색"
   ]
  },
  {
   "cell_type": "code",
   "execution_count": 49,
   "metadata": {},
   "outputs": [],
   "source": [
    "# 눈썹 \n",
    "face_cascade = cv2.CascadeClassifier('./data/haarcascade_frontalface_default.xml')\n",
    "eye_cascade = cv2.CascadeClassifier('./data/haarcascade_eye.xml')\n",
    "\n",
    "img = cv2.imread('./data/face.png')\n",
    "gray = cv2.cvtColor(img, cv2.COLOR_BGR2GRAY)\n",
    "\n",
    "# 얼굴 검색 ( 이미지, 스케일, 최소이웃값)\n",
    "faces = face_cascade.detectMultiScale(gray, 1.3, 5)\n",
    "# --> 얼굴의 ROI 좌표 반환\n",
    "\n",
    "for (x,y,w,h) in faces :\n",
    "    cv2.rectangle(img, (x,y), (x+w, y+h), (255, 0, 0), 2)\n",
    "\n",
    "cv2.imshow('face', img)\n",
    "\n",
    "cv2.waitKey(0)\n",
    "cv2.destroyAllWindows()"
   ]
  },
  {
   "cell_type": "code",
   "execution_count": 50,
   "metadata": {},
   "outputs": [],
   "source": [
    "# 눈썹 \n",
    "\n",
    "face_cascade = cv2.CascadeClassifier('./data/haarcascade_frontalface_default.xml')\n",
    "eye_cascade = cv2.CascadeClassifier('./data/haarcascade_eye.xml')\n",
    "\n",
    "img = cv2.imread('./data/hoon2.png')\n",
    "gray = cv2.cvtColor(img, cv2.COLOR_BGR2GRAY)\n",
    "\n",
    "# 얼굴 검색 ( 이미지, 스케일, 최소이웃값)\n",
    "faces = face_cascade.detectMultiScale(gray, 1.3, 5)\n",
    "# --> 얼굴의 ROI 좌표 반환\n",
    "\n",
    "for (x,y,w,h) in faces :\n",
    "    cv2.rectangle(img, (x,y), (x+w, y+h), (255, 0, 0), 2)\n",
    "    \n",
    "    # 얼굴 영역만 분리!\n",
    "    roi_eye = gray[y:y+h, x:x+w]\n",
    "    roi_eye_color = img[y:y+h, x:x+w]\n",
    "    \n",
    "    # 눈 영역을 검색\n",
    "    eyes = eye_cascade.detectMultiScale(roi_eye)\n",
    "    \n",
    "    for(ex, ey, ew, eh) in eyes :\n",
    "        cv2.rectangle(roi_eye_color, (ex,ey), (ex+ew, ey+eh), (0, 0, 255), 2)\n",
    "        \n",
    "cv2.imshow('face', img)\n",
    "\n",
    "cv2.waitKey(0)\n",
    "cv2.destroyAllWindows()"
   ]
  },
  {
   "cell_type": "markdown",
   "metadata": {},
   "source": [
    "## 영상에서 얼굴, 눈 인식"
   ]
  },
  {
   "cell_type": "code",
   "execution_count": 51,
   "metadata": {},
   "outputs": [
    {
     "name": "stdout",
     "output_type": "stream",
     "text": [
      "캡처 성공\n"
     ]
    }
   ],
   "source": [
    "import cv2\n",
    "\n",
    "# 눈썹 \n",
    "\n",
    "face_cascade = cv2.CascadeClassifier('./data/haarcascade_frontalface_default.xml')\n",
    "eye_cascade = cv2.CascadeClassifier('./data/haarcascade_eye.xml')\n",
    "\n",
    "    \n",
    "try : \n",
    "    cap = cv2.VideoCapture('./data/video2.mp4')\n",
    "    \n",
    "    print('캡처 성공')\n",
    "    \n",
    "except :\n",
    "    \n",
    "    print('캡처 실패')    \n",
    "\n",
    "while True :\n",
    "    \n",
    "    ret, frame = cap.read()\n",
    "    if not ret :\n",
    "        print('비디오 읽기 실패')\n",
    "        \n",
    "    gray = cv2.cvtColor(frame, cv2.COLOR_BGR2GRAY)\n",
    "    \n",
    "#img = cv2.imread('./data/useok.png')\n",
    "    \n",
    "\n",
    "# 얼굴 검색 ( 이미지, 스케일, 최소이웃값)\n",
    "    faces = face_cascade.detectMultiScale(gray, 1.2, 2)\n",
    "    # --> 얼굴의 ROI 좌표 반환\n",
    "\n",
    "    for (x,y,w,h) in faces :\n",
    "        cv2.rectangle(frame, (x,y), (x+w, y+h), (255, 0, 0), 2)\n",
    "\n",
    "        # 얼굴 영역만 분리!\n",
    "        roi_eye = gray[y:y+h, x:x+w]\n",
    "        roi_eye_color = frame[y:y+h, x:x+w]\n",
    "\n",
    "        # 눈 영역을 검색\n",
    "        eyes = eye_cascade.detectMultiScale(roi_eye)\n",
    "\n",
    "        for(ex, ey, ew, eh) in eyes :\n",
    "            cv2.rectangle(roi_eye_color, (ex,ey), (ex+ew, ey+eh), (0, 0, 255), 2)\n",
    "\n",
    "    cv2.imshow('face', frame)\n",
    "    \n",
    "    key = cv2.waitKey(33)\n",
    "    \n",
    "    if key == 49 :\n",
    "        cap.release()\n",
    "        cv2.destroyAllWindows()\n",
    "        break"
   ]
  },
  {
   "cell_type": "code",
   "execution_count": null,
   "metadata": {},
   "outputs": [],
   "source": []
  },
  {
   "cell_type": "code",
   "execution_count": null,
   "metadata": {},
   "outputs": [],
   "source": []
  },
  {
   "cell_type": "code",
   "execution_count": null,
   "metadata": {},
   "outputs": [],
   "source": []
  },
  {
   "cell_type": "code",
   "execution_count": null,
   "metadata": {},
   "outputs": [],
   "source": []
  },
  {
   "cell_type": "code",
   "execution_count": null,
   "metadata": {},
   "outputs": [],
   "source": []
  }
 ],
 "metadata": {
  "kernelspec": {
   "display_name": "Python 3",
   "language": "python",
   "name": "python3"
  },
  "language_info": {
   "codemirror_mode": {
    "name": "ipython",
    "version": 3
   },
   "file_extension": ".py",
   "mimetype": "text/x-python",
   "name": "python",
   "nbconvert_exporter": "python",
   "pygments_lexer": "ipython3",
   "version": "3.6.12"
  }
 },
 "nbformat": 4,
 "nbformat_minor": 4
}
