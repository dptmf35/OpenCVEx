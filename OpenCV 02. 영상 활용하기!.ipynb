{
 "cells": [
  {
   "cell_type": "markdown",
   "metadata": {},
   "source": [
    "# OpenCV 라이브러리 활용"
   ]
  },
  {
   "cell_type": "markdown",
   "metadata": {},
   "source": [
    "## 사전 준비(환경설정) \n",
    "1. anaconda navigator에서 environments --> uninstalled, cv 검색\n",
    "2. libopencv, opencv, py-opencv install\n",
    "3. sample video는 data folder의 video.mp4를 활용하였음"
   ]
  },
  {
   "cell_type": "markdown",
   "metadata": {},
   "source": [
    "## 라이브러리 import"
   ]
  },
  {
   "cell_type": "code",
   "execution_count": 1,
   "metadata": {},
   "outputs": [],
   "source": [
    "import cv2\n",
    "#matplotlib과 연동하기 위함\n",
    "import matplotlib.pyplot as plt "
   ]
  },
  {
   "cell_type": "markdown",
   "metadata": {},
   "source": [
    "## 동영상 파일 읽기"
   ]
  },
  {
   "cell_type": "code",
   "execution_count": 2,
   "metadata": {},
   "outputs": [],
   "source": [
    "try : \n",
    "    # 비디오 파일 불러오기\n",
    "    cap = cv2.VideoCapture('./data/video.mp4')\n",
    "\n",
    "except: \n",
    "    print('영상 캡쳐 실패 ㅠ')\n",
    "    \n",
    "# 영상의 크기 설정\n",
    "# 3: 가로 크기, 4 : 세로 크기\n",
    "cap.set(3, 480)\n",
    "cap.set(4, 0)\n",
    "\n",
    "# 영상을 읽는다!\n",
    "while True :\n",
    "    # 한 장 이미지를 읽는다\n",
    "    ret, frame = cap.read()\n",
    "    \n",
    "    # 이미지 읽기 실패?\n",
    "    if not ret :\n",
    "        print('비디오 읽기 실패 ㅠ')\n",
    "        break\n",
    "    \n",
    "    # 24비트 컬러를 32컬러로 변환\n",
    "    img = cv2.cvtColor(frame, cv2.COLOR_RGB2RGBA)\n",
    "    #cv2.COLOR_RGB2GRAY -- > 흑백 출력\n",
    "    # 이진으로 출력\n",
    "    # _, thlmg = cv2.threshold(lenna_gray, 160, 255, cv2.THRESH_BINARY)\n",
    "    # 읽은 이미지를 출력!\n",
    "    cv2.imshow('', img)\n",
    "    \n",
    "    # 1초에 30자의 이미지를 출력하기 위해 딜레이\n",
    "    k = cv2.waitKey(33)\n",
    "    \n",
    "    if k == 49 : # 누른 키가 숫자 1이라면? --> 정지\n",
    "        cap.release() # 캐처 해제    \n",
    "        # 열린 창 모두 닫기\n",
    "        cv2.destroyAllWindows()\n",
    "        break"
   ]
  },
  {
   "cell_type": "markdown",
   "metadata": {},
   "source": [
    "## 녹화(캠 필요)\n",
    "- video.mp4의 화면을 녹화한다"
   ]
  },
  {
   "cell_type": "code",
   "execution_count": 3,
   "metadata": {},
   "outputs": [
    {
     "name": "stdout",
     "output_type": "stream",
     "text": [
      "캡처 성공\n",
      "녹화 시작합니다. . .\n",
      "녹화 종료\n"
     ]
    }
   ],
   "source": [
    "try : \n",
    "    cap = cv2.VideoCapture('./data/video.mp4')\n",
    "     #0 번 카메라로부터 영상 캡쳐\n",
    "    #cap = cv2.VideoCapture(0) # --> 캠 연동\n",
    "    #print('영상 캡쳐 성공!')\n",
    "    print('캡처 성공')\n",
    "    \n",
    "except :\n",
    "    \n",
    "    print('캡처 실패')\n",
    "\n",
    "# 녹화 설정\n",
    "# 프레임 수 : 1초 실행될 이미지 수\n",
    "fps = 30\n",
    "\n",
    "# 플레이되는 영상의 크기\n",
    "width = int(cap.get(3))\n",
    "height = int(cap.get(4))\n",
    "\n",
    "# 코덱 설정 (mpeg 로 설정)\n",
    "fcc = cv2.VideoWriter_fourcc(*'DIVX')\n",
    "\n",
    "#녹화 파일 설정 ( 파일명, 코덱 종류, 프레임 수, 크기(가로, 세로) )\n",
    "out = cv2.VideoWriter('./data/cap01.mp4', fcc, fps, (width, height))\n",
    "print('녹화 시작합니다. . .')\n",
    "\n",
    "while True :\n",
    "    \n",
    "    ret, frame = cap.read()\n",
    "    \n",
    "    if not ret :\n",
    "        print('읽기 실패')\n",
    "        break\n",
    "    \n",
    "    img = cv2.cvtColor(frame, cv2.COLOR_RGB2RGBA)\n",
    "    cv2.imshow('', img)\n",
    "    \n",
    "    # 녹화 실행\n",
    "    out.write(frame)\n",
    "    \n",
    "    k = cv2.waitKey(33)\n",
    "    \n",
    "    if k == 49 :\n",
    "        print('녹화 종료')\n",
    "        \n",
    "        cap.release()\n",
    "        cv2.destroyAllWindows()\n",
    "        \n",
    "        break"
   ]
  },
  {
   "cell_type": "markdown",
   "metadata": {},
   "source": [
    "## 영상에서 원하는 프레임을 저장 (2 누르면)"
   ]
  },
  {
   "cell_type": "code",
   "execution_count": 4,
   "metadata": {},
   "outputs": [
    {
     "name": "stdout",
     "output_type": "stream",
     "text": [
      "녹화 종료\n"
     ]
    }
   ],
   "source": [
    "cnt = 0\n",
    "try :\n",
    "    cap = cv2.VideoCapture('./data/video.mp4')\n",
    "except :\n",
    "    print('캡쳐 실패ㅠ')\n",
    "\n",
    "while True :\n",
    "    \n",
    "    ret, frame = cap.read()\n",
    "    \n",
    "    if not ret :\n",
    "        print('읽기 실패')\n",
    "        break\n",
    "        \n",
    "    img = cv2.cvtColor(frame, cv2.COLOR_RGB2RGBA)\n",
    "    cv2.imshow('',img)\n",
    "    \n",
    "    k = cv2.waitKey(33)\n",
    "    \n",
    "    if k == 49 : #숫자 1 press\n",
    "        print('녹화 종료')\n",
    "        \n",
    "        cap.release()\n",
    "        cv2.destroyAllWindows()\n",
    "        break\n",
    "    \n",
    "    if k == 50 : #숫자 2 press\n",
    "        # 이미지 저장 ( 파일명, 이미지명, 압축 방법, 압축률 (0 - 9 : 클수록 더 압축))\n",
    "        cnt += 1\n",
    "        name = 'img0{}.png'.format(cnt)\n",
    "        cv2.imwrite(name, frame, params = [cv2.IMWRITE_PNG_COMPRESSION, 0])"
   ]
  }
 ],
 "metadata": {
  "kernelspec": {
   "display_name": "Python 3",
   "language": "python",
   "name": "python3"
  },
  "language_info": {
   "codemirror_mode": {
    "name": "ipython",
    "version": 3
   },
   "file_extension": ".py",
   "mimetype": "text/x-python",
   "name": "python",
   "nbconvert_exporter": "python",
   "pygments_lexer": "ipython3",
   "version": "3.6.12"
  }
 },
 "nbformat": 4,
 "nbformat_minor": 4
}
